{
 "cells": [
  {
   "cell_type": "code",
   "execution_count": 1,
   "id": "e3c9f846",
   "metadata": {},
   "outputs": [],
   "source": [
    "#Write a Python program to print the sum of the series 1/2+1/3+1/4+ ... +1/N. Where N is\n",
    "#natural number."
   ]
  },
  {
   "cell_type": "code",
   "execution_count": 5,
   "id": "925b87b1",
   "metadata": {},
   "outputs": [
    {
     "name": "stdout",
     "output_type": "stream",
     "text": [
      "Enter N value 5\n",
      "1.2833333333333332\n"
     ]
    }
   ],
   "source": [
    "N=int(input(\"Enter N value \"))\n",
    "sum_of_series=0\n",
    "for i in range(2,N+1):\n",
    "    sum_of_series+=(1/(i))\n",
    "print(sum_of_series)\n"
   ]
  },
  {
   "cell_type": "code",
   "execution_count": 7,
   "id": "e00d6b3d",
   "metadata": {},
   "outputs": [],
   "source": [
    "#Write a Python program that prompts user to enter numbers. \n",
    "#The process will repeat until user enters 0. \n",
    "#Finally, the program prints sum of the numbers entered by the user."
   ]
  },
  {
   "cell_type": "code",
   "execution_count": 13,
   "id": "83cbee23",
   "metadata": {},
   "outputs": [
    {
     "name": "stdout",
     "output_type": "stream",
     "text": [
      "2\n",
      "4\n",
      "5\n",
      "4\n",
      "6\n",
      "8\n",
      "0\n",
      "29\n"
     ]
    }
   ],
   "source": [
    "count=0\n",
    "while True:\n",
    "    a=int(input())\n",
    "    count+=a\n",
    "    if a==0:\n",
    "        break\n",
    "print(count)"
   ]
  },
  {
   "cell_type": "code",
   "execution_count": 14,
   "id": "449229b4",
   "metadata": {},
   "outputs": [],
   "source": [
    "#Write a Python program to print all the numbers from 1 to 1000 that are not divisible by\n",
    "#2, 3, 5, 7, 11, 13, 17 and 19.\n"
   ]
  },
  {
   "cell_type": "code",
   "execution_count": 17,
   "id": "ba89a535",
   "metadata": {},
   "outputs": [
    {
     "name": "stdout",
     "output_type": "stream",
     "text": [
      "1 23 29 31 37 41 43 47 53 59 61 67 71 73 79 83 89 97 101 103 107 109 113 127 131 137 139 149 151 157 163 167 173 179 181 191 193 197 199 211 223 227 229 233 239 241 251 257 263 269 271 277 281 283 293 307 311 313 317 331 337 347 349 353 359 367 373 379 383 389 397 401 409 419 421 431 433 439 443 449 457 461 463 467 479 487 491 499 503 509 521 523 529 541 547 557 563 569 571 577 587 593 599 601 607 613 617 619 631 641 643 647 653 659 661 667 673 677 683 691 701 709 713 719 727 733 739 743 751 757 761 769 773 787 797 809 811 821 823 827 829 839 841 851 853 857 859 863 877 881 883 887 899 907 911 919 929 937 941 943 947 953 961 967 971 977 983 989 991 997 "
     ]
    }
   ],
   "source": [
    "for i in range(1,1001):\n",
    "    if i%2!= 0 and i%3!= 0 and i%5!= 0 and i%7!= 0 and i%11!= 0 and i%13!= 0 and i%17!= 0 and i%19!= 0:\n",
    "        print(i,end=' ')"
   ]
  },
  {
   "cell_type": "code",
   "execution_count": 18,
   "id": "4f856c4f",
   "metadata": {},
   "outputs": [],
   "source": [
    "#Write a Python program to find HCF (GCD) of two numbers."
   ]
  },
  {
   "cell_type": "code",
   "execution_count": 20,
   "id": "8077c662",
   "metadata": {},
   "outputs": [
    {
     "name": "stdout",
     "output_type": "stream",
     "text": [
      "Enter the first number : 12\n",
      "Enter the second number : 24\n",
      "12\n"
     ]
    }
   ],
   "source": [
    "a = int(input(\"Enter the first number : \"))\n",
    "b = int(input(\"Enter the second number : \"))\n",
    "for i in range(1,a+1):\n",
    "    if a%i==0:\n",
    "        for j in range(1,b+1):\n",
    "            if b%j==0:\n",
    "                if j==i:\n",
    "                    hcf=j\n",
    "print(hcf)"
   ]
  },
  {
   "cell_type": "code",
   "execution_count": 3,
   "id": "dafc9175",
   "metadata": {},
   "outputs": [
    {
     "name": "stdout",
     "output_type": "stream",
     "text": [
      "Enter a number : 407\n",
      "Armstrong Number\n"
     ]
    }
   ],
   "source": [
    "#Write a Python program to check whether a number is Armstrong number or not.\n",
    "num = int(input(\"Enter a number : \"))\n",
    "t=num\n",
    "sum=0\n",
    "while t>0:\n",
    "    a = t%10\n",
    "    sum += a**3\n",
    "    t //=10\n",
    "if sum==num:\n",
    "    print(\"Armstrong Number\")\n",
    "else:\n",
    "    print(\"Not an Armstrong number\")"
   ]
  },
  {
   "cell_type": "code",
   "execution_count": 4,
   "id": "1cf91405",
   "metadata": {},
   "outputs": [
    {
     "name": "stdout",
     "output_type": "stream",
     "text": [
      "Enter the number : 12445\n",
      "After swapping 1st and last digit :  52441\n"
     ]
    }
   ],
   "source": [
    "n = int(input(\"Enter the number : \"))\n",
    "\n",
    "temp=n\n",
    "count=0\n",
    "while temp>0:\n",
    "    temp//=10\n",
    "    count+=1\n",
    "count = count - 1\n",
    "last=n%10\n",
    "first = n//(10**count)\n",
    "new=(n//10)*10+first\n",
    "rev = (new%(10**count))+(last*(10**count))\n",
    "print(\"After swapping 1st and last digit : \",rev)"
   ]
  },
  {
   "cell_type": "code",
   "execution_count": 5,
   "id": "6dcf357f",
   "metadata": {},
   "outputs": [
    {
     "name": "stdout",
     "output_type": "stream",
     "text": [
      "Enter the number : 977\n",
      "Not Armstrong\n"
     ]
    }
   ],
   "source": [
    "num = int(input(\"Enter the number : \"))\n",
    "sum=0\n",
    "temp=num\n",
    "\n",
    "while temp>0:\n",
    "    digit = temp% 10\n",
    "    sum += digit **4\n",
    "    temp //= 10\n",
    "if num == sum:\n",
    "    print(\"Armstrong\")\n",
    "\n",
    "else:\n",
    "    print(\"Not Armstrong\")"
   ]
  },
  {
   "cell_type": "code",
   "execution_count": 6,
   "id": "1710a70e",
   "metadata": {},
   "outputs": [],
   "source": [
    "#Write a Python program for printing prime numbers up to N"
   ]
  },
  {
   "cell_type": "code",
   "execution_count": 10,
   "id": "0d6ff946",
   "metadata": {},
   "outputs": [
    {
     "name": "stdout",
     "output_type": "stream",
     "text": [
      "Enter N value : 150\n",
      "The prime number up to 150\n",
      "2 3 5 7 11 13 17 19 23 29 31 37 41 43 47 53 59 61 67 71 73 79 83 89 97 101 103 107 109 113 127 131 137 139 149 "
     ]
    }
   ],
   "source": [
    "N=int(input(\"Enter N value : \"))\n",
    "print(\"The prime number up to\",N)\n",
    "for i in range(1,N+1):\n",
    "    count=0\n",
    "    for j in range(1,1+i):\n",
    "        if i%j==0:\n",
    "            count+=1\n",
    "    if count==2:\n",
    "        print(i,end=\" \")"
   ]
  },
  {
   "cell_type": "code",
   "execution_count": 1,
   "id": "d90f2078",
   "metadata": {},
   "outputs": [],
   "source": [
    "#Write a Python program to construct the following pattern, using a nested for loop."
   ]
  },
  {
   "cell_type": "code",
   "execution_count": 2,
   "id": "1436e950",
   "metadata": {},
   "outputs": [
    {
     "name": "stdout",
     "output_type": "stream",
     "text": [
      "\n",
      "*  \n",
      "*  *  \n",
      "*  *  *  \n",
      "*  *  *  *  \n",
      "*  *  *  *  *  \n",
      "*  *  *  *  \n",
      "*  *  *  \n",
      "*  *  \n",
      "*  \n"
     ]
    }
   ],
   "source": [
    "for i in range (5):\n",
    "    for j in range(i):\n",
    "        print(\"* \", end=\" \")\n",
    "    print()\n",
    "    \n",
    "for i in range (5,0,-1):\n",
    "    for j in range(i):\n",
    "        print(\"* \", end=\" \")\n",
    "    print()\n",
    "    "
   ]
  },
  {
   "cell_type": "code",
   "execution_count": 5,
   "id": "34041e8c",
   "metadata": {},
   "outputs": [
    {
     "name": "stdout",
     "output_type": "stream",
     "text": [
      "1\t0\t1\t0\t\n",
      "0\t1\t0\t1\t\n",
      "1\t0\t1\t0\t\n",
      "0\t1\t0\t1\t\n"
     ]
    }
   ],
   "source": [
    "for i in range (1,5):\n",
    "    for j in range(1,5):\n",
    "        if (i+j)%2==0:\n",
    "             print(\"1\\t\",end=\"\")\n",
    "        else :\n",
    "            print(\"0\\t\",end=\"\")\n",
    "\n",
    "    print()\n",
    "            "
   ]
  },
  {
   "cell_type": "markdown",
   "id": "1e654ab6",
   "metadata": {},
   "source": [
    "# functions in python"
   ]
  },
  {
   "cell_type": "markdown",
   "id": "172fd89e",
   "metadata": {},
   "source": [
    "### function  is a block of code which is executed when it is called\n",
    "### you can pass data, known as parameters into functions\n",
    "### function return data as result\n",
    "### two types of functions\n",
    "    #inbuilt functions\n",
    "    #user defined functions"
   ]
  },
  {
   "cell_type": "code",
   "execution_count": 1,
   "id": "6d514d56",
   "metadata": {},
   "outputs": [],
   "source": [
    "def iseven(n):\n",
    "    if n%2==0:\n",
    "        print(n,\"is even\")\n",
    "    else:\n",
    "        print(n,\"is not even\")"
   ]
  },
  {
   "cell_type": "code",
   "execution_count": 2,
   "id": "60e902da",
   "metadata": {},
   "outputs": [
    {
     "data": {
      "text/plain": [
       "10"
      ]
     },
     "execution_count": 2,
     "metadata": {},
     "output_type": "execute_result"
    }
   ],
   "source": [
    "def add(x,y):\n",
    "    return x+y\n",
    "add(2,3)+5 #default args"
   ]
  },
  {
   "cell_type": "code",
   "execution_count": 3,
   "id": "aa745e14",
   "metadata": {},
   "outputs": [],
   "source": [
    "# syntax def function_name(param):\n",
    "#            statement1\n",
    "#            statement2\n",
    "#            ..\n",
    "# function calling: function_name(args)"
   ]
  },
  {
   "cell_type": "code",
   "execution_count": 4,
   "id": "971fdfc7",
   "metadata": {},
   "outputs": [
    {
     "data": {
      "text/plain": [
       "14"
      ]
     },
     "execution_count": 4,
     "metadata": {},
     "output_type": "execute_result"
    }
   ],
   "source": [
    "add(4,y=10) # keyword args"
   ]
  },
  {
   "cell_type": "code",
   "execution_count": 5,
   "id": "ceb79bce",
   "metadata": {},
   "outputs": [
    {
     "name": "stdout",
     "output_type": "stream",
     "text": [
      "jan\n",
      "feb\n",
      "march\n",
      "april\n"
     ]
    }
   ],
   "source": [
    "def months(*n):\n",
    "    for i in n:\n",
    "        print(i)\n",
    "months(\"jan\",\"feb\",\"march\",\"april\") #arbitary args"
   ]
  },
  {
   "cell_type": "code",
   "execution_count": 6,
   "id": "4b812e02",
   "metadata": {},
   "outputs": [],
   "source": [
    "def multiply(**numbers):\n",
    "    return numbers[\"a\"]*numbers[\"b\"]*numbers[\"c\"]\n"
   ]
  },
  {
   "cell_type": "code",
   "execution_count": 7,
   "id": "6f0c0914",
   "metadata": {},
   "outputs": [
    {
     "data": {
      "text/plain": [
       "240"
      ]
     },
     "execution_count": 7,
     "metadata": {},
     "output_type": "execute_result"
    }
   ],
   "source": [
    "multiply(a=12,b=10,c=2)"
   ]
  },
  {
   "cell_type": "code",
   "execution_count": 8,
   "id": "3906daa3",
   "metadata": {},
   "outputs": [],
   "source": [
    "# Define a function to find sum of all odd numbers between 1 to n. \n"
   ]
  },
  {
   "cell_type": "code",
   "execution_count": 11,
   "id": "6633793e",
   "metadata": {},
   "outputs": [
    {
     "name": "stdout",
     "output_type": "stream",
     "text": [
      "Enter the n Value : 100\n",
      "1\n",
      "3\n",
      "5\n",
      "7\n",
      "9\n",
      "11\n",
      "13\n",
      "15\n",
      "17\n",
      "19\n",
      "21\n",
      "23\n",
      "25\n",
      "27\n",
      "29\n",
      "31\n",
      "33\n",
      "35\n",
      "37\n",
      "39\n",
      "41\n",
      "43\n",
      "45\n",
      "47\n",
      "49\n",
      "51\n",
      "53\n",
      "55\n",
      "57\n",
      "59\n",
      "61\n",
      "63\n",
      "65\n",
      "67\n",
      "69\n",
      "71\n",
      "73\n",
      "75\n",
      "77\n",
      "79\n",
      "81\n",
      "83\n",
      "85\n",
      "87\n",
      "89\n",
      "91\n",
      "93\n",
      "95\n",
      "97\n",
      "99\n",
      "The Sum of Odd Numbers from 1 to 100 = 2500\n"
     ]
    }
   ],
   "source": [
    "n = int(input(\"Enter the n Value : \"))\n",
    "Oddsum = 0\n",
    "\n",
    "for number in range(1, n+1):\n",
    "    if(number %2!= 0):\n",
    "        print(\"{0}\".format(number))\n",
    "        Oddsum = Oddsum + number\n",
    "\n",
    "print(\"The Sum of Odd Numbers from 1 to {0} = {1}\".format(number, Oddsum))"
   ]
  },
  {
   "cell_type": "code",
   "execution_count": 12,
   "id": "2388a758",
   "metadata": {},
   "outputs": [
    {
     "name": "stdout",
     "output_type": "stream",
     "text": [
      "Enter n value :100\n",
      "The sum of all odd numbers between 1 to 100\n"
     ]
    },
    {
     "data": {
      "text/plain": [
       "2500"
      ]
     },
     "execution_count": 12,
     "metadata": {},
     "output_type": "execute_result"
    }
   ],
   "source": [
    "def oddsum(n):\n",
    "    add=0\n",
    "    for i in range(1,n):\n",
    "        if i%2!=0:\n",
    "            add+=i\n",
    "    print(\"The sum of all odd numbers between 1 to\",n)\n",
    "    return add\n",
    "n=int(input(\"Enter n value :\"))\n",
    "oddsum(n)"
   ]
  },
  {
   "cell_type": "code",
   "execution_count": 13,
   "id": "b28835c8",
   "metadata": {},
   "outputs": [],
   "source": [
    "#Define a function to check whether a number is palindrome or not. "
   ]
  },
  {
   "cell_type": "code",
   "execution_count": 17,
   "id": "ae116eca",
   "metadata": {},
   "outputs": [
    {
     "name": "stdout",
     "output_type": "stream",
     "text": [
      "Enter a number :1001\n",
      "1001 is a palindrome\n"
     ]
    }
   ],
   "source": [
    "def palindrome(n):\n",
    "    temp=n\n",
    "    rev=0\n",
    "    while temp>0:\n",
    "        rev=rev*10+temp%10\n",
    "        temp//=10\n",
    "    if rev==n:\n",
    "        print(n,\"is a palindrome\")\n",
    "    else:\n",
    "        print(n,\"is not a palindrome\")\n",
    "n=int(input(\"Enter a number :\"))\n",
    "palindrome(n)  "
   ]
  },
  {
   "cell_type": "code",
   "execution_count": 19,
   "id": "602fb529",
   "metadata": {},
   "outputs": [
    {
     "name": "stdout",
     "output_type": "stream",
     "text": [
      "Enter number:1221\n",
      "The number is a palindrome\n"
     ]
    }
   ],
   "source": [
    "n=int(input(\"Enter number:\"))\n",
    "temp=n\n",
    "rev=0\n",
    "while n>0:\n",
    "    rev=rev*10+n%10\n",
    "    n=n//10\n",
    "if(temp==rev):\n",
    "    print(\"The number is a palindrome\")\n",
    "else:\n",
    "    print(\"The number isn't a palindrome\")"
   ]
  },
  {
   "cell_type": "code",
   "execution_count": 20,
   "id": "d2dacdea",
   "metadata": {},
   "outputs": [],
   "source": [
    "#Define a function to calculate the area of a circle using the formula.\n",
    "    "
   ]
  },
  {
   "cell_type": "code",
   "execution_count": 24,
   "id": "9203f8b6",
   "metadata": {},
   "outputs": [
    {
     "name": "stdout",
     "output_type": "stream",
     "text": [
      "radius: 4\n",
      "50.24 is the area of given circle\n"
     ]
    }
   ],
   "source": [
    "def circle(r):\n",
    "    area=3.14*r**2\n",
    "    print(area,\"is the area of given circle\")\n",
    "r=int(input(\"radius: \"))\n",
    "circle(r)"
   ]
  },
  {
   "cell_type": "code",
   "execution_count": 2,
   "id": "37afdeef",
   "metadata": {},
   "outputs": [
    {
     "name": "stdout",
     "output_type": "stream",
     "text": [
      "Enter number: 23\n",
      "The number is not perfect number\n"
     ]
    }
   ],
   "source": [
    "def isperfect(n):\n",
    "    sum=0\n",
    "    for i in range(1,n):\n",
    "        if n%i==0:\n",
    "            sum=sum+i\n",
    "    if sum==n:\n",
    "        print(\"The number is perfect \")\n",
    "    else:\n",
    "        print(\"The number is not perfect number\")\n",
    "        \n",
    "n=int(input(\"Enter number: \"))\n",
    "isperfect(n)"
   ]
  },
  {
   "cell_type": "code",
   "execution_count": 4,
   "id": "afe79f02",
   "metadata": {},
   "outputs": [
    {
     "name": "stdout",
     "output_type": "stream",
     "text": [
      "Enter the number :6\n",
      "6 * 1 = 6\n",
      "6 * 2 = 12\n",
      "6 * 3 = 18\n",
      "6 * 4 = 24\n",
      "6 * 5 = 30\n",
      "6 * 6 = 36\n",
      "6 * 7 = 42\n",
      "6 * 8 = 48\n",
      "6 * 9 = 54\n",
      "6 * 10 = 60\n"
     ]
    }
   ],
   "source": [
    "def table(n):\n",
    "    for i in range(1,11):\n",
    "        print(n,\"*\",i,\"=\",n*i)\n",
    "n=int(input(\"Enter the number :\"))\n",
    "table(n)"
   ]
  },
  {
   "cell_type": "code",
   "execution_count": null,
   "id": "d46d5759",
   "metadata": {},
   "outputs": [],
   "source": []
  }
 ],
 "metadata": {
  "kernelspec": {
   "display_name": "Python 3 (ipykernel)",
   "language": "python",
   "name": "python3"
  },
  "language_info": {
   "codemirror_mode": {
    "name": "ipython",
    "version": 3
   },
   "file_extension": ".py",
   "mimetype": "text/x-python",
   "name": "python",
   "nbconvert_exporter": "python",
   "pygments_lexer": "ipython3",
   "version": "3.9.12"
  }
 },
 "nbformat": 4,
 "nbformat_minor": 5
}
